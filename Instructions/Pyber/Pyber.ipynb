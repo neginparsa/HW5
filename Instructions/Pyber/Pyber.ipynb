{
 "cells": [
  {
   "cell_type": "code",
   "execution_count": 1,
   "metadata": {
    "collapsed": true
   },
   "outputs": [],
   "source": [
    "# Observable trends\n",
    "# 1) The Urban city type has the highest percentage of drivers,total fare and \n",
    "#    total rides as compared to suburban and rural types.\n",
    "# 2) The average Fare tends to decrease as the total number of rides increases.\n",
    "# 3) Rural city type has least number of rides, least driver count and least share of total fare."
   ]
  },
  {
   "cell_type": "code",
   "execution_count": 1,
   "metadata": {
    "collapsed": true
   },
   "outputs": [],
   "source": [
    "import pandas as pd\n",
    "import numpy as np\n",
    "import os\n",
    "import matplotlib.pyplot as plt"
   ]
  },
  {
   "cell_type": "code",
   "execution_count": 2,
   "metadata": {},
   "outputs": [
    {
     "data": {
      "text/html": [
       "<div>\n",
       "<style>\n",
       "    .dataframe thead tr:only-child th {\n",
       "        text-align: right;\n",
       "    }\n",
       "\n",
       "    .dataframe thead th {\n",
       "        text-align: left;\n",
       "    }\n",
       "\n",
       "    .dataframe tbody tr th {\n",
       "        vertical-align: top;\n",
       "    }\n",
       "</style>\n",
       "<table border=\"1\" class=\"dataframe\">\n",
       "  <thead>\n",
       "    <tr style=\"text-align: right;\">\n",
       "      <th></th>\n",
       "      <th>city</th>\n",
       "      <th>driver_count</th>\n",
       "      <th>type</th>\n",
       "    </tr>\n",
       "  </thead>\n",
       "  <tbody>\n",
       "    <tr>\n",
       "      <th>0</th>\n",
       "      <td>Kelseyland</td>\n",
       "      <td>63</td>\n",
       "      <td>Urban</td>\n",
       "    </tr>\n",
       "    <tr>\n",
       "      <th>1</th>\n",
       "      <td>Nguyenbury</td>\n",
       "      <td>8</td>\n",
       "      <td>Urban</td>\n",
       "    </tr>\n",
       "    <tr>\n",
       "      <th>2</th>\n",
       "      <td>East Douglas</td>\n",
       "      <td>12</td>\n",
       "      <td>Urban</td>\n",
       "    </tr>\n",
       "    <tr>\n",
       "      <th>3</th>\n",
       "      <td>West Dawnfurt</td>\n",
       "      <td>34</td>\n",
       "      <td>Urban</td>\n",
       "    </tr>\n",
       "    <tr>\n",
       "      <th>4</th>\n",
       "      <td>Rodriguezburgh</td>\n",
       "      <td>52</td>\n",
       "      <td>Urban</td>\n",
       "    </tr>\n",
       "  </tbody>\n",
       "</table>\n",
       "</div>"
      ],
      "text/plain": [
       "             city  driver_count   type\n",
       "0      Kelseyland            63  Urban\n",
       "1      Nguyenbury             8  Urban\n",
       "2    East Douglas            12  Urban\n",
       "3   West Dawnfurt            34  Urban\n",
       "4  Rodriguezburgh            52  Urban"
      ]
     },
     "execution_count": 2,
     "metadata": {},
     "output_type": "execute_result"
    }
   ],
   "source": [
    "# read the csv files into pandas as dataframes\n",
    "filepath = os.path.join(\"raw_data\",\"city_data.csv\")\n",
    "city_df = pd.read_csv(filepath)\n",
    "filepath2 = os.path.join(\"raw_data\",\"ride_data.csv\")\n",
    "ride_df = pd.read_csv(filepath2)\n",
    "city_df.head()"
   ]
  },
  {
   "cell_type": "code",
   "execution_count": 3,
   "metadata": {},
   "outputs": [
    {
     "data": {
      "text/html": [
       "<div>\n",
       "<style>\n",
       "    .dataframe thead tr:only-child th {\n",
       "        text-align: right;\n",
       "    }\n",
       "\n",
       "    .dataframe thead th {\n",
       "        text-align: left;\n",
       "    }\n",
       "\n",
       "    .dataframe tbody tr th {\n",
       "        vertical-align: top;\n",
       "    }\n",
       "</style>\n",
       "<table border=\"1\" class=\"dataframe\">\n",
       "  <thead>\n",
       "    <tr style=\"text-align: right;\">\n",
       "      <th></th>\n",
       "      <th>city</th>\n",
       "      <th>date</th>\n",
       "      <th>fare</th>\n",
       "      <th>ride_id</th>\n",
       "    </tr>\n",
       "  </thead>\n",
       "  <tbody>\n",
       "    <tr>\n",
       "      <th>0</th>\n",
       "      <td>Sarabury</td>\n",
       "      <td>2016-01-16 13:49:27</td>\n",
       "      <td>38.35</td>\n",
       "      <td>5403689035038</td>\n",
       "    </tr>\n",
       "    <tr>\n",
       "      <th>1</th>\n",
       "      <td>South Roy</td>\n",
       "      <td>2016-01-02 18:42:34</td>\n",
       "      <td>17.49</td>\n",
       "      <td>4036272335942</td>\n",
       "    </tr>\n",
       "    <tr>\n",
       "      <th>2</th>\n",
       "      <td>Wiseborough</td>\n",
       "      <td>2016-01-21 17:35:29</td>\n",
       "      <td>44.18</td>\n",
       "      <td>3645042422587</td>\n",
       "    </tr>\n",
       "    <tr>\n",
       "      <th>3</th>\n",
       "      <td>Spencertown</td>\n",
       "      <td>2016-07-31 14:53:22</td>\n",
       "      <td>6.87</td>\n",
       "      <td>2242596575892</td>\n",
       "    </tr>\n",
       "    <tr>\n",
       "      <th>4</th>\n",
       "      <td>Nguyenbury</td>\n",
       "      <td>2016-07-09 04:42:44</td>\n",
       "      <td>6.28</td>\n",
       "      <td>1543057793673</td>\n",
       "    </tr>\n",
       "  </tbody>\n",
       "</table>\n",
       "</div>"
      ],
      "text/plain": [
       "          city                 date   fare        ride_id\n",
       "0     Sarabury  2016-01-16 13:49:27  38.35  5403689035038\n",
       "1    South Roy  2016-01-02 18:42:34  17.49  4036272335942\n",
       "2  Wiseborough  2016-01-21 17:35:29  44.18  3645042422587\n",
       "3  Spencertown  2016-07-31 14:53:22   6.87  2242596575892\n",
       "4   Nguyenbury  2016-07-09 04:42:44   6.28  1543057793673"
      ]
     },
     "execution_count": 3,
     "metadata": {},
     "output_type": "execute_result"
    }
   ],
   "source": [
    "ride_df.head()"
   ]
  },
  {
   "cell_type": "code",
   "execution_count": 4,
   "metadata": {},
   "outputs": [
    {
     "data": {
      "text/html": [
       "<div>\n",
       "<style>\n",
       "    .dataframe thead tr:only-child th {\n",
       "        text-align: right;\n",
       "    }\n",
       "\n",
       "    .dataframe thead th {\n",
       "        text-align: left;\n",
       "    }\n",
       "\n",
       "    .dataframe tbody tr th {\n",
       "        vertical-align: top;\n",
       "    }\n",
       "</style>\n",
       "<table border=\"1\" class=\"dataframe\">\n",
       "  <thead>\n",
       "    <tr style=\"text-align: right;\">\n",
       "      <th></th>\n",
       "      <th>city</th>\n",
       "      <th>driver_count</th>\n",
       "      <th>type</th>\n",
       "      <th>date</th>\n",
       "      <th>fare</th>\n",
       "      <th>ride_id</th>\n",
       "    </tr>\n",
       "  </thead>\n",
       "  <tbody>\n",
       "    <tr>\n",
       "      <th>1594</th>\n",
       "      <td>Alvarezhaven</td>\n",
       "      <td>21</td>\n",
       "      <td>Urban</td>\n",
       "      <td>2016-04-18 20:51:29</td>\n",
       "      <td>31.93</td>\n",
       "      <td>4267015736324</td>\n",
       "    </tr>\n",
       "    <tr>\n",
       "      <th>1595</th>\n",
       "      <td>Alvarezhaven</td>\n",
       "      <td>21</td>\n",
       "      <td>Urban</td>\n",
       "      <td>2016-08-01 00:39:48</td>\n",
       "      <td>6.42</td>\n",
       "      <td>8394540350728</td>\n",
       "    </tr>\n",
       "    <tr>\n",
       "      <th>1624</th>\n",
       "      <td>Alvarezhaven</td>\n",
       "      <td>21</td>\n",
       "      <td>Urban</td>\n",
       "      <td>2016-07-04 04:28:22</td>\n",
       "      <td>33.31</td>\n",
       "      <td>306054352684</td>\n",
       "    </tr>\n",
       "    <tr>\n",
       "      <th>1623</th>\n",
       "      <td>Alvarezhaven</td>\n",
       "      <td>21</td>\n",
       "      <td>Urban</td>\n",
       "      <td>2016-01-27 10:38:40</td>\n",
       "      <td>6.72</td>\n",
       "      <td>6152998520191</td>\n",
       "    </tr>\n",
       "    <tr>\n",
       "      <th>1622</th>\n",
       "      <td>Alvarezhaven</td>\n",
       "      <td>21</td>\n",
       "      <td>Urban</td>\n",
       "      <td>2016-05-16 15:33:14</td>\n",
       "      <td>6.45</td>\n",
       "      <td>8939751998750</td>\n",
       "    </tr>\n",
       "  </tbody>\n",
       "</table>\n",
       "</div>"
      ],
      "text/plain": [
       "              city  driver_count   type                 date   fare  \\\n",
       "1594  Alvarezhaven            21  Urban  2016-04-18 20:51:29  31.93   \n",
       "1595  Alvarezhaven            21  Urban  2016-08-01 00:39:48   6.42   \n",
       "1624  Alvarezhaven            21  Urban  2016-07-04 04:28:22  33.31   \n",
       "1623  Alvarezhaven            21  Urban  2016-01-27 10:38:40   6.72   \n",
       "1622  Alvarezhaven            21  Urban  2016-05-16 15:33:14   6.45   \n",
       "\n",
       "            ride_id  \n",
       "1594  4267015736324  \n",
       "1595  8394540350728  \n",
       "1624   306054352684  \n",
       "1623  6152998520191  \n",
       "1622  8939751998750  "
      ]
     },
     "execution_count": 4,
     "metadata": {},
     "output_type": "execute_result"
    }
   ],
   "source": [
    "# merge the above dataframes and sort by city\n",
    "merge_df = pd.merge(city_df,ride_df,on=\"city\",how=\"outer\")\n",
    "merge_df = merge_df.sort_values(\"city\")\n",
    "merge_df.head()"
   ]
  },
  {
   "cell_type": "code",
   "execution_count": 5,
   "metadata": {
    "collapsed": true
   },
   "outputs": [],
   "source": [
    "# slice the city df by Urban city type\n",
    "city_urban = city_df.loc[city_df[\"type\"]==\"Urban\"]\n",
    "city_urban.sort_values(\"city\")\n",
    "# driver count per city for urban city type\n",
    "drivers_urban = city_urban[\"driver_count\"].tolist()\n",
    "drivers_urban = [each*5 for each in drivers_urban]"
   ]
  },
  {
   "cell_type": "code",
   "execution_count": 6,
   "metadata": {
    "collapsed": true
   },
   "outputs": [],
   "source": [
    "# slice the city df by Rural city type\n",
    "city_rural = city_df.loc[city_df[\"type\"]==\"Rural\"]\n",
    "city_rural.sort_values(\"city\")\n",
    "# driver count per city by Rural type\n",
    "drivers_rural = city_rural[\"driver_count\"].tolist()\n",
    "drivers_rural = [each*5 for each in drivers_rural]"
   ]
  },
  {
   "cell_type": "code",
   "execution_count": 7,
   "metadata": {
    "collapsed": true
   },
   "outputs": [],
   "source": [
    "# slice the city df by suburban city type\n",
    "city_sub = city_df.loc[city_df[\"type\"]==\"Suburban\"]\n",
    "city_sub.sort_values(\"city\")\n",
    "# driver count per city by suburban type\n",
    "drivers_sub= city_sub[\"driver_count\"].tolist()\n",
    "drivers_sub = [each*5 for each in drivers_sub]"
   ]
  },
  {
   "cell_type": "code",
   "execution_count": 8,
   "metadata": {
    "collapsed": true
   },
   "outputs": [],
   "source": [
    "# slice the merged df by urban type\n",
    "urban_df = merge_df.loc[merge_df[\"type\"]==\"Urban\"]\n",
    "urban_df.sort_values(\"city\")\n",
    "# groupby city\n",
    "group_urban = urban_df.groupby(\"city\")\n",
    "# no of rides per city-Urban\n",
    "rides_city_urban = group_urban[\"type\"].count()\n",
    "rides_city_urban\n",
    "# average fare per city-Urban\n",
    "avgfare_urban = round(group_urban[\"fare\"].mean(),2)"
   ]
  },
  {
   "cell_type": "code",
   "execution_count": 9,
   "metadata": {
    "collapsed": true
   },
   "outputs": [],
   "source": [
    "# slice the merged df by rural type\n",
    "rural_df = merge_df.loc[merge_df[\"type\"]==\"Rural\"]\n",
    "rural_df.sort_values(\"city\")\n",
    "# groupby city\n",
    "group_rural = rural_df.groupby(\"city\")\n",
    "# no of rides per city-Rural\n",
    "rides_city_rural = group_rural[\"type\"].count()\n",
    "rides_city_rural\n",
    "# average fare per city-Rural\n",
    "avgfare_rural = round(group_rural[\"fare\"].mean(),2)"
   ]
  },
  {
   "cell_type": "code",
   "execution_count": 10,
   "metadata": {
    "collapsed": true
   },
   "outputs": [],
   "source": [
    "# slice the merged df by Suburban type\n",
    "sub_df = merge_df.loc[merge_df[\"type\"]==\"Suburban\"]\n",
    "sub_df.sort_values(\"city\")\n",
    "# groupby city\n",
    "group_sub = sub_df.groupby(\"city\")\n",
    "# no of rides per city-Suburban\n",
    "rides_city_sub = group_sub[\"type\"].count()\n",
    "rides_city_sub\n",
    "# average fare per city-Suburban\n",
    "avgfare_sub = round(group_sub[\"fare\"].mean(),2)\n"
   ]
  },
  {
   "cell_type": "code",
   "execution_count": 13,
   "metadata": {},
   "outputs": [
    {
     "data": {
      "image/png": "[encoded data removed]",
      "text/plain": [
       "<matplotlib.figure.Figure at 0x1c0000fca90>"
      ]
     },
     "metadata": {},
     "output_type": "display_data"
    }
   ],
   "source": [
    "# create scatterplots for each city type dataframes\n",
    "# scatter plot for urban\n",
    "plt.figure(figsize=(10,8))\n",
    "plt.grid(True)\n",
    "sct_urban = plt.scatter(x=rides_city_urban,y=avgfare_urban,marker=\"o\",\n",
    "                        color=\"lightcoral\",s=drivers_urban,edgecolors='black',alpha=0.75,label=\"Urban\")\n",
    "# scatter plot for rural\n",
    "sct_rural = plt.scatter(x=rides_city_rural,y=avgfare_rural,marker=\"o\",\n",
    "                        color=\"gold\",s=drivers_rural,edgecolors='black',alpha=0.75,label=\"Rural\")\n",
    "# scatter plot for Suburban\n",
    "sct_sub = plt.scatter(x=rides_city_sub,y=avgfare_sub,marker=\"o\",\n",
    "                      color=\"lightskyblue\",s=drivers_sub,edgecolors='black',alpha=0.75,label=\"Suburban\")\n",
    "\n",
    "# pass the legends and set equal sizes for legend points\n",
    "lgnd = plt.legend(handles=[sct_urban,sct_rural,sct_sub],loc=\"best\")\n",
    "lgnd.legendHandles[0]._sizes = [70]\n",
    "lgnd.legendHandles[1]._sizes = [70]\n",
    "lgnd.legendHandles[2]._sizes = [70]\n",
    "\n",
    "# set annotation texts and their positions on the chart\n",
    "plt.text(36,37,'Note',fontsize=10)\n",
    "plt.text(36,35,'circle size correlates with driver count per city',fontsize=10)\n",
    "\n",
    "# setting x and y limits\n",
    "plt.xlim(0,35)\n",
    "plt.ylim(0,50)\n",
    "\n",
    "# axis labels and title\n",
    "plt.savefig(\"mypyber.png\")\n",
    "plt.title(\"Pyber Ride Sharing Data(2016)\")\n",
    "plt.xlabel(\"Total Number Of Rides(Per City)\")\n",
    "plt.ylabel(\"Average Fare($)\")\n",
    "\n",
    "plt.show()\n"
   ]
  },
  {
   "cell_type": "code",
   "execution_count": 57,
   "metadata": {},
   "outputs": [
    {
     "data": {
      "text/plain": [
       "[62.965459783938456, 31.948580476976858, 6.6849998845271221]"
      ]
     },
     "execution_count": 57,
     "metadata": {},
     "output_type": "execute_result"
    }
   ],
   "source": [
    "# pie charts\n",
    "# % of total fares by city type\n",
    "# % of total fare for urban\n",
    "# total fare for all the city types combined\n",
    "total_fare = round(ride_df[\"fare\"].sum(),2)\n",
    "# total fare for Urban\n",
    "grouped_type = merge_df.groupby(\"type\")\n",
    "total_fare_type = grouped_type[\"fare\"].sum()\n",
    "# % total fare for each city type\n",
    "percent_fare_type = [(x/total_fare)*100 for x in total_fare_type]\n"
   ]
  },
  {
   "cell_type": "code",
   "execution_count": 171,
   "metadata": {
    "collapsed": true
   },
   "outputs": [],
   "source": [
    "# Labels for the sections of our pie chart\n",
    "labels = [\"Urban\", \"Suburban\", \"Rural\"]\n",
    "\n",
    "# The values of each section of the pie chart\n",
    "percent_fare_type\n",
    "\n",
    "# The colors of each section of the pie chart\n",
    "colors = [\"lightcoral\", \"gold\", \"yellowgreen\"]\n",
    "\n",
    "# Tells matplotlib to seperate the \"Python\" section from the others\n",
    "explode = [0, 0, 0.25]"
   ]
  },
  {
   "cell_type": "code",
   "execution_count": 172,
   "metadata": {},
   "outputs": [
    {
     "data": {
      "text/plain": [
       "<matplotlib.text.Text at 0x16c0d022ef0>"
      ]
     },
     "execution_count": 172,
     "metadata": {},
     "output_type": "execute_result"
    }
   ],
   "source": [
    "# Creates the pie chart based upon the values above\n",
    "# Automatically finds the percentages of each part of the pie chart\n",
    "plt.pie(percent_fare_type, explode=explode, labels=labels, colors=colors,\n",
    "        autopct=\"%1.1f%%\", shadow=True, startangle=240)\n",
    "plt.title(\"% Of Total Fares (Per City Type)\")"
   ]
  },
  {
   "cell_type": "code",
   "execution_count": 173,
   "metadata": {},
   "outputs": [
    {
     "data": {
      "text/plain": [
       "(-1.11462397804305,\n",
       " 1.1144226692634001,\n",
       " -1.1554270498751096,\n",
       " 1.1140802538127261)"
      ]
     },
     "execution_count": 173,
     "metadata": {},
     "output_type": "execute_result"
    }
   ],
   "source": [
    "# a pie chart with equal axes\n",
    "plt.axis(\"equal\")"
   ]
  },
  {
   "cell_type": "code",
   "execution_count": 174,
   "metadata": {},
   "outputs": [
    {
     "data": {
      "image/png": "[encoded data removed]",
      "text/plain": [
       "<matplotlib.figure.Figure at 0x16c0cf67160>"
      ]
     },
     "metadata": {},
     "output_type": "display_data"
    }
   ],
   "source": [
    "# % of Total fares by city Type\n",
    "plt.show()"
   ]
  },
  {
   "cell_type": "code",
   "execution_count": 152,
   "metadata": {},
   "outputs": [
    {
     "data": {
      "text/plain": [
       "[68.421052631578945, 27.663157894736841, 5.2631578947368416]"
      ]
     },
     "execution_count": 152,
     "metadata": {},
     "output_type": "execute_result"
    }
   ],
   "source": [
    "# % of total rides by city type\n",
    "# Total rides for all cities combined\n",
    "total_rides = ride_df[\"ride_id\"].count()\n",
    "\n",
    "# groupby city type\n",
    "total_rides_type = grouped_type[\"ride_id\"].count()\n",
    "total_rides_type\n",
    "\n",
    "# % total rides for each city type\n",
    "percent_rides_type = [(x/total_rides)*100 for x in total_rides_type]\n",
    "percent_rides_type"
   ]
  },
  {
   "cell_type": "code",
   "execution_count": 175,
   "metadata": {
    "collapsed": true
   },
   "outputs": [],
   "source": [
    "# Labels for the sections of our pie chart\n",
    "labels = [\"Urban\", \"Suburban\", \"Rural\"]\n",
    "\n",
    "# The values of each section of the pie chart\n",
    "percent_rides_type\n",
    "\n",
    "# The colors of each section of the pie chart\n",
    "colors = [\"lightcoral\", \"gold\", \"yellowgreen\"]\n",
    "\n",
    "# Tells matplotlib to seperate the \"Python\" section from the others\n",
    "explode = [0, 0, 0.25]"
   ]
  },
  {
   "cell_type": "code",
   "execution_count": 176,
   "metadata": {},
   "outputs": [
    {
     "data": {
      "text/plain": [
       "<matplotlib.text.Text at 0x16c0d0bd208>"
      ]
     },
     "execution_count": 176,
     "metadata": {},
     "output_type": "execute_result"
    }
   ],
   "source": [
    "# Creates the pie chart based upon the values above\n",
    "# Automatically finds the percentages of each part of the pie chart\n",
    "plt.pie(percent_rides_type, explode=explode, labels=labels, colors=colors,\n",
    "        autopct=\"%1.1f%%\", shadow=True, startangle=240)\n",
    "plt.title(\"% Of Total Rides(Per City Type)\")"
   ]
  },
  {
   "cell_type": "code",
   "execution_count": 177,
   "metadata": {},
   "outputs": [
    {
     "data": {
      "text/plain": [
       "(-1.1109503009358856,\n",
       " 1.1050945005859638,\n",
       " -1.1626796488641793,\n",
       " 1.1105014575263785)"
      ]
     },
     "execution_count": 177,
     "metadata": {},
     "output_type": "execute_result"
    }
   ],
   "source": [
    "# Tells matplotlib that we want a pie chart with equal axes\n",
    "plt.axis(\"equal\")"
   ]
  },
  {
   "cell_type": "code",
   "execution_count": 178,
   "metadata": {},
   "outputs": [
    {
     "data": {
      "image/png": "[encoded data removed]",
      "text/plain": [
       "<matplotlib.figure.Figure at 0x16c0d016048>"
      ]
     },
     "metadata": {},
     "output_type": "display_data"
    }
   ],
   "source": [
    "# % of Total rides Per city Type\n",
    "plt.show()"
   ]
  },
  {
   "cell_type": "code",
   "execution_count": 157,
   "metadata": {
    "collapsed": true
   },
   "outputs": [],
   "source": [
    "# % of total drivers per City Type\n",
    "# Total drivers for all cities combined\n",
    "total_drivers = city_df[\"driver_count\"].sum()\n",
    "\n",
    "# total drivers for urban\n",
    "# groupby city type and city\n",
    "grouped_city_type = city_df.groupby(\"type\")\n",
    "total_drivers_type = grouped_city_type[\"driver_count\"].sum()\n",
    "\n",
    "# % total drivers for each city type\n",
    "percent_drivers_type = [(x/total_drivers)*100 for x in total_drivers_type]\n"
   ]
  },
  {
   "cell_type": "code",
   "execution_count": 179,
   "metadata": {
    "collapsed": true
   },
   "outputs": [],
   "source": [
    "# Labels for the sections of our pie chart\n",
    "labels = [\"Urban\", \"Suburban\", \"Rural\"]\n",
    "\n",
    "# The values of each section of the pie chart\n",
    "percent_drivers_type\n",
    "\n",
    "# The colors of each section of the pie chart\n",
    "colors = [\"lightcoral\", \"gold\", \"yellowgreen\"]\n",
    "\n",
    "# Tells matplotlib to seperate the \"Python\" section from the others\n",
    "explode = [0, 0, 0.25]"
   ]
  },
  {
   "cell_type": "code",
   "execution_count": 180,
   "metadata": {},
   "outputs": [
    {
     "data": {
      "text/plain": [
       "<matplotlib.text.Text at 0x16c0d158be0>"
      ]
     },
     "execution_count": 180,
     "metadata": {},
     "output_type": "execute_result"
    }
   ],
   "source": [
    "# Creates the pie chart based upon the values above\n",
    "# Automatically finds the percentages of each part of the pie chart\n",
    "plt.pie(percent_drivers_type, explode=explode, labels=labels, colors=colors,\n",
    "        autopct=\"%1.1f%%\", shadow=True, startangle=240)\n",
    "plt.title(\"% Of Total Drivers (Per City Type)\")"
   ]
  },
  {
   "cell_type": "code",
   "execution_count": 181,
   "metadata": {},
   "outputs": [
    {
     "data": {
      "text/plain": [
       "(-1.1195402788517075,\n",
       " 1.1047086085116691,\n",
       " -1.1728086528708919,\n",
       " 1.1037963935744863)"
      ]
     },
     "execution_count": 181,
     "metadata": {},
     "output_type": "execute_result"
    }
   ],
   "source": [
    "# Tells matplotlib that we want a pie chart with equal axes\n",
    "plt.axis(\"equal\")"
   ]
  },
  {
   "cell_type": "code",
   "execution_count": 182,
   "metadata": {},
   "outputs": [
    {
     "data": {
      "image/png": "[encoded data removed]",
      "text/plain": [
       "<matplotlib.figure.Figure at 0x16c0d0963c8>"
      ]
     },
     "metadata": {},
     "output_type": "display_data"
    }
   ],
   "source": [
    "# % of Total drivers Per city Type\n",
    "plt.show()"
   ]
  }
 ],
 "metadata": {
  "kernelspec": {
   "display_name": "Python 3",
   "language": "python",
   "name": "python3"
  },
  "language_info": {
   "codemirror_mode": {
    "name": "ipython",
    "version": 3
   },
   "file_extension": ".py",
   "mimetype": "text/x-python",
   "name": "python",
   "nbconvert_exporter": "python",
   "pygments_lexer": "ipython3",
   "version": "3.6.1"
  }
 },
 "nbformat": 4,
 "nbformat_minor": 2
}
